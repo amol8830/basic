{
 "cells": [
  {
   "cell_type": "code",
   "execution_count": 42,
   "id": "7726c868",
   "metadata": {},
   "outputs": [
    {
     "name": "stdout",
     "output_type": "stream",
     "text": [
      "enter the lower range\n",
      "1\n",
      "enter the higher range\n",
      "20\n",
      "Enter your guess number\n",
      "10\n",
      "try again,you guessed too high\n",
      "Enter your guess number\n",
      "5\n",
      "try again,you guessed too small\n",
      "Enter your guess number\n",
      "8\n",
      "try again,you guessed too high\n",
      "Enter your guess number\n",
      "7\n",
      "your guess is right, you win\n",
      "Nice play\n"
     ]
    }
   ],
   "source": [
    "import random\n",
    "import math\n",
    "low = int(input(\"enter the lower range\\n\"))\n",
    "high = int(input(\"enter the higher range\\n\"))\n",
    "g = random.randint(low,high) \n",
    "\n",
    "for i in range(0,6):  # range is number of attempts given to user\n",
    "        i = int(input(\"Enter your guess number\\n\"))\n",
    "    \n",
    "        if i == g:\n",
    "            print(\"your guess is right, you win\")\n",
    "            break\n",
    "        \n",
    "\n",
    "        elif i > g:\n",
    "            print(\"try again,you guessed too high\")\n",
    "    \n",
    "        elif i < g:\n",
    "            print(\"try again,you guessed too small\")\n",
    "\n",
    "if i == g:\n",
    "    print(\"Nice play\")\n",
    "else:\n",
    "    print(\"you loss, Better luck next time\")\n",
    "        \n"
   ]
  },
  {
   "cell_type": "code",
   "execution_count": null,
   "id": "dd3343e9",
   "metadata": {},
   "outputs": [],
   "source": []
  },
  {
   "cell_type": "code",
   "execution_count": null,
   "id": "fef09682",
   "metadata": {},
   "outputs": [],
   "source": []
  }
 ],
 "metadata": {
  "kernelspec": {
   "display_name": "Python 3",
   "language": "python",
   "name": "python3"
  },
  "language_info": {
   "codemirror_mode": {
    "name": "ipython",
    "version": 3
   },
   "file_extension": ".py",
   "mimetype": "text/x-python",
   "name": "python",
   "nbconvert_exporter": "python",
   "pygments_lexer": "ipython3",
   "version": "3.8.8"
  }
 },
 "nbformat": 4,
 "nbformat_minor": 5
}
